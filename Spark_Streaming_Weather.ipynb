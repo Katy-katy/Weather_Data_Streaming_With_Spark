{
 "cells": [
  {
   "cell_type": "code",
   "execution_count": 1,
   "metadata": {
    "collapsed": true
   },
   "outputs": [],
   "source": [
    "# Example weather station data (streaming measurements coming from \n",
    "# the weather station)\n",
    "#\n",
    "# 1419408015\t0R1,Dn=059D,Dm=066D,Dx=080D,Sn=8.5M,Sm=9.5M,Sx=10.3M"
   ]
  },
  {
   "cell_type": "markdown",
   "metadata": {},
   "source": [
    "Each line contains timestamp and a set of measurements.We are interested in the average wind direction:\n",
    "Dn - Wind direction minimum deg #, D(Dm)."
   ]
  },
  {
   "cell_type": "code",
   "execution_count": 2,
   "metadata": {
    "collapsed": true
   },
   "outputs": [],
   "source": [
    "# Parse a line and returning the average wind direction measurement \n",
    "import re\n",
    "def parse(line):\n",
    "    match = re.search(\"Dm=(\\d+)\", line)\n",
    "    if match:\n",
    "        val = match.group(1)\n",
    "        return [int(val)]\n",
    "    return []"
   ]
  },
  {
   "cell_type": "code",
   "execution_count": 3,
   "metadata": {
    "collapsed": false
   },
   "outputs": [],
   "source": [
    "#to create a new instance of Spark's StreamingContext\n",
    "from pyspark.streaming import StreamingContext\n",
    "ssc = StreamingContext(sc, 1) #batch interval 1 sec"
   ]
  },
  {
   "cell_type": "code",
   "execution_count": 4,
   "metadata": {
    "collapsed": true
   },
   "outputs": [],
   "source": [
    "#to create DStream of Weather Data\n",
    "weather_data = ssc.socketTextStream(\"rtd.hpwren.ucsd.edu\", 12028)"
   ]
  },
  {
   "cell_type": "code",
   "execution_count": 5,
   "metadata": {
    "collapsed": true
   },
   "outputs": [],
   "source": [
    "av_wind_speed =   weather_data.flatMap(parse)"
   ]
  },
  {
   "cell_type": "code",
   "execution_count": 6,
   "metadata": {
    "collapsed": true
   },
   "outputs": [],
   "source": [
    "#to create sliding window of data\n",
    "window = av_wind_speed.window(10, 5)\n",
    "# the window combines 10 sec worth of data and moves by 5 sec"
   ]
  },
  {
   "cell_type": "code",
   "execution_count": 7,
   "metadata": {
    "collapsed": true
   },
   "outputs": [],
   "source": [
    "#this function will print max and min values for the window\n",
    "def max_min(rdd):\n",
    "    print(rdd.collect())\n",
    "    if rdd.count() > 0:\n",
    "        print(\"max = {}, min = {}\".format(rdd.max(), rdd.min()))"
   ]
  },
  {
   "cell_type": "code",
   "execution_count": 8,
   "metadata": {
    "collapsed": false
   },
   "outputs": [],
   "source": [
    "window.foreachRDD(lambda rdd: max_min(rdd))"
   ]
  },
  {
   "cell_type": "code",
   "execution_count": 9,
   "metadata": {
    "collapsed": false
   },
   "outputs": [
    {
     "name": "stdout",
     "output_type": "stream",
     "text": [
      "[310, 311]\n",
      "max = 311, min = 310\n",
      "[310, 311, 312, 310, 318, 326, 312]\n",
      "max = 326, min = 310\n",
      "[312, 310, 318, 326, 312, 312, 320, 320, 323, 326, 327]\n",
      "max = 327, min = 310\n",
      "[312, 320, 320, 323, 326, 327, 331, 339, 7, 1, 337]\n",
      "max = 339, min = 1\n",
      "[331, 339, 7, 1, 337, 338, 328, 324, 315, 316]\n",
      "max = 339, min = 1\n",
      "[338, 328, 324, 315, 316, 311, 309, 306, 318, 318]\n"
     ]
    }
   ],
   "source": [
    "#Now we are ready to start stream processing!\n",
    "ssc.start()"
   ]
  },
  {
   "cell_type": "code",
   "execution_count": 10,
   "metadata": {
    "collapsed": false
   },
   "outputs": [
    {
     "name": "stdout",
     "output_type": "stream",
     "text": [
      "max = 338, min = 306\n"
     ]
    }
   ],
   "source": [
    "ssc.stop()"
   ]
  },
  {
   "cell_type": "markdown",
   "metadata": {
    "collapsed": true
   },
   "source": [
    "Our sliding window has 10 seconds worth of data and it moves every 5 seconds. Thus, the second half of a window becomes the first half of the next window."
   ]
  },
  {
   "cell_type": "code",
   "execution_count": null,
   "metadata": {
    "collapsed": true
   },
   "outputs": [],
   "source": []
  }
 ],
 "metadata": {
  "kernelspec": {
   "display_name": "Python 3",
   "language": "python",
   "name": "python3"
  },
  "language_info": {
   "codemirror_mode": {
    "name": "ipython",
    "version": 3
   },
   "file_extension": ".py",
   "mimetype": "text/x-python",
   "name": "python",
   "nbconvert_exporter": "python",
   "pygments_lexer": "ipython3",
   "version": "3.5.1"
  }
 },
 "nbformat": 4,
 "nbformat_minor": 0
}
